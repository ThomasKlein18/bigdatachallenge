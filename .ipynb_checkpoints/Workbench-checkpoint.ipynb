{
 "cells": [
  {
   "cell_type": "code",
   "execution_count": 1,
   "metadata": {},
   "outputs": [],
   "source": [
    "import numpy as np\n",
    "import tensorflow as tf\n",
    "from utils import *"
   ]
  },
  {
   "cell_type": "code",
   "execution_count": null,
   "metadata": {},
   "outputs": [],
   "source": [
    "def rough_extractor(data, num_samples):\n",
    "    \"\"\"\n",
    "    Samples a signal after smoothing it.\n",
    "\n",
    "    data = 1d-numpy array of length timestep\n",
    "    num_samples = how many samples to extract\n",
    "    \"\"\"\n",
    "    smoothed = smooth(data,100,10)\n",
    "    smax = np.std(smoothed)\n",
    "    if smax == 0:\n",
    "        smax = 0.00001\n",
    "    normalized = (smoothed-np.mean(smoothed))/smax\n",
    "    return sample(normalized, num_samples)"
   ]
  },
  {
   "cell_type": "code",
   "execution_count": null,
   "metadata": {},
   "outputs": [],
   "source": [
    "def plot_sensor_info_for_label(sensor,label,n):\n",
    "    df = pd.read_csv(data_path+\"train.csv\")\n",
    "    count = 0\n",
    "    for index, drow in df.iterrows():\n",
    "        if drow['Label'] == label:\n",
    "            count += 1\n",
    "            \n",
    "            data = pd.read_csv(data_path+drow['Datafile']).values\n",
    "            \n",
    "            fig, ax = plt.subplots(nrows=2, ncols=1, figsize=(20,6))\n",
    "            ax[0].set_title(drow['Subject']+\", \"+drow['Datafile'][20:31]+\", \"+label+\",  \"+sensors[sensor])\n",
    "            ax[1].set_title(\"Variance spectrum and peaks\")\n",
    "            \n",
    "            #ax[0].set_ylim(0,50000)\n",
    "            plt.subplots_adjust(left=None, bottom=None, right=None, top=None, wspace=None, hspace=.5)\n",
    "            \n",
    "            xs = np.arange(0,data.shape[0])\n",
    "            ax[0].plot(xs,data[:,sensor])\n",
    "            \n",
    "            info = smooth_extractor(data[:,sensor], 80)\n",
    "            neu = rough_extractor(data[:,sensor], 80)\n",
    "            #print(info)\n",
    "            #vari = smooth(variance_filter(data[:,sensor],windowsize=100),100,25)\n",
    "            #deriv = derivative_filter(data[:,sensor],windowsize=200, std=50)\n",
    "            #peaks = signal.find_peaks(vari, height=None, width=20)\n",
    "            #testres = peakfinder(deriv, None, 20, 3)\n",
    "            #ax[1].scatter(peaks[0],vari[peaks[0]], c=\"r\")\n",
    "            #ax[1].plot(np.arange(0,vari.shape[0]),vari, c=\"g\")\n",
    "            #samples = [int(sample) for sample in np.linspace(0, vari.shape[0]-1, 80)]\n",
    "            ax[1].scatter(np.linspace(0,info.shape[0]-1,80),info, c=\"g\")\n",
    "            ax[1].scatter(np.linspace(0,neu.shape[0]-1, 80),neu, c=\"red\")\n",
    "            #ax[1].scatter(peaks[0],deriv[peaks[0]], c=\"r\")\n",
    "            #ax[1].plot(np.arange(0,deriv.shape[0]),np.ones(deriv.shape[0])*np.mean(deriv), c=\"blue\")\n",
    "            #ax[1].plot(np.arange(0,deriv.shape[0]),deriv, c=\"g\")\n",
    "            #ax[1].set_ylim(-1,1)\n",
    "            plt.show()\n",
    "            if count == n:\n",
    "                break"
   ]
  },
  {
   "cell_type": "code",
   "execution_count": null,
   "metadata": {
    "scrolled": false
   },
   "outputs": [],
   "source": [
    "plot_sensor_info_for_label(sensors.index(\"Goniometer X\"),\"walk\", 10)"
   ]
  },
  {
   "cell_type": "code",
   "execution_count": null,
   "metadata": {},
   "outputs": [],
   "source": [
    "dataset_creator(data_path+\"train.csv\",\n",
    "                \"./data/rawdata\")"
   ]
  },
  {
   "cell_type": "code",
   "execution_count": 2,
   "metadata": {},
   "outputs": [
    {
     "name": "stdout",
     "output_type": "stream",
     "text": [
      "Digesting Subject01/Subject01_Aufnahme000.csv\n",
      "Digesting Subject01/Subject01_Aufnahme100.csv\n",
      "Digesting Subject01/Subject01_Aufnahme200.csv\n",
      "Digesting Subject01/Subject01_Aufnahme300.csv\n",
      "Digesting Subject01/Subject01_Aufnahme400.csv\n",
      "Digesting Subject10/Subject10_Aufnahme060.csv\n",
      "Digesting Subject10/Subject10_Aufnahme160.csv\n",
      "Digesting Subject10/Subject10_Aufnahme260.csv\n",
      "Digesting Subject10/Subject10_Aufnahme360.csv\n",
      "Digesting Subject14/Subject14_Aufnahme042.csv\n",
      "Digesting Subject14/Subject14_Aufnahme142.csv\n",
      "Digesting Subject14/Subject14_Aufnahme242.csv\n",
      "Digesting Subject14/Subject14_Aufnahme342.csv\n",
      "Digesting Subject15/Subject15_Aufnahme002.csv\n",
      "Digesting Subject15/Subject15_Aufnahme102.csv\n",
      "Digesting Subject15/Subject15_Aufnahme202.csv\n",
      "Digesting Subject15/Subject15_Aufnahme302.csv\n",
      "Digesting Subject15/Subject15_Aufnahme402.csv\n"
     ]
    }
   ],
   "source": [
    "challenge_dataset_creator(data_path+\"challenge.csv\",\n",
    "                \"./data/rawchallenge\")"
   ]
  },
  {
   "cell_type": "code",
   "execution_count": 3,
   "metadata": {},
   "outputs": [
    {
     "ename": "OSError",
     "evalue": "Unable to open file (unable to open file: name = '/Users/thomasklein/Projects/BremenBigDataChallenge2019/bigdatachallenge/models/model_archive/Bartimaeus.h5', errno = 2, error message = 'No such file or directory', flags = 0, o_flags = 0)",
     "output_type": "error",
     "traceback": [
      "\u001b[0;31m---------------------------------------------------------------------------\u001b[0m",
      "\u001b[0;31mOSError\u001b[0m                                   Traceback (most recent call last)",
      "\u001b[0;32m<ipython-input-3-e7583e02fbea>\u001b[0m in \u001b[0;36m<module>\u001b[0;34m\u001b[0m\n\u001b[1;32m      3\u001b[0m \u001b[0;34m\u001b[0m\u001b[0m\n\u001b[1;32m      4\u001b[0m \u001b[0mname\u001b[0m \u001b[0;34m=\u001b[0m \u001b[0;34m\"Bartimaeus\"\u001b[0m\u001b[0;34m\u001b[0m\u001b[0m\n\u001b[0;32m----> 5\u001b[0;31m \u001b[0mmodel\u001b[0m \u001b[0;34m=\u001b[0m \u001b[0mtf\u001b[0m\u001b[0;34m.\u001b[0m\u001b[0mkeras\u001b[0m\u001b[0;34m.\u001b[0m\u001b[0mmodels\u001b[0m\u001b[0;34m.\u001b[0m\u001b[0mload_model\u001b[0m\u001b[0;34m(\u001b[0m\u001b[0marchive_path\u001b[0m\u001b[0;34m+\u001b[0m\u001b[0mname\u001b[0m\u001b[0;34m+\u001b[0m\u001b[0;34m\".h5\"\u001b[0m\u001b[0;34m)\u001b[0m\u001b[0;34m\u001b[0m\u001b[0m\n\u001b[0m\u001b[1;32m      6\u001b[0m \u001b[0mmodel\u001b[0m\u001b[0;34m.\u001b[0m\u001b[0msummary\u001b[0m\u001b[0;34m(\u001b[0m\u001b[0;34m)\u001b[0m\u001b[0;34m\u001b[0m\u001b[0m\n",
      "\u001b[0;32m/usr/local/lib/python3.6/site-packages/tensorflow/python/keras/engine/saving.py\u001b[0m in \u001b[0;36mload_model\u001b[0;34m(filepath, custom_objects, compile)\u001b[0m\n\u001b[1;32m    217\u001b[0m   \u001b[0mopened_new_file\u001b[0m \u001b[0;34m=\u001b[0m \u001b[0;32mnot\u001b[0m \u001b[0misinstance\u001b[0m\u001b[0;34m(\u001b[0m\u001b[0mfilepath\u001b[0m\u001b[0;34m,\u001b[0m \u001b[0mh5py\u001b[0m\u001b[0;34m.\u001b[0m\u001b[0mFile\u001b[0m\u001b[0;34m)\u001b[0m\u001b[0;34m\u001b[0m\u001b[0m\n\u001b[1;32m    218\u001b[0m   \u001b[0;32mif\u001b[0m \u001b[0mopened_new_file\u001b[0m\u001b[0;34m:\u001b[0m\u001b[0;34m\u001b[0m\u001b[0m\n\u001b[0;32m--> 219\u001b[0;31m     \u001b[0mf\u001b[0m \u001b[0;34m=\u001b[0m \u001b[0mh5py\u001b[0m\u001b[0;34m.\u001b[0m\u001b[0mFile\u001b[0m\u001b[0;34m(\u001b[0m\u001b[0mfilepath\u001b[0m\u001b[0;34m,\u001b[0m \u001b[0mmode\u001b[0m\u001b[0;34m=\u001b[0m\u001b[0;34m'r'\u001b[0m\u001b[0;34m)\u001b[0m\u001b[0;34m\u001b[0m\u001b[0m\n\u001b[0m\u001b[1;32m    220\u001b[0m   \u001b[0;32melse\u001b[0m\u001b[0;34m:\u001b[0m\u001b[0;34m\u001b[0m\u001b[0m\n\u001b[1;32m    221\u001b[0m     \u001b[0mf\u001b[0m \u001b[0;34m=\u001b[0m \u001b[0mfilepath\u001b[0m\u001b[0;34m\u001b[0m\u001b[0m\n",
      "\u001b[0;32m/usr/local/lib/python3.6/site-packages/h5py/_hl/files.py\u001b[0m in \u001b[0;36m__init__\u001b[0;34m(self, name, mode, driver, libver, userblock_size, swmr, **kwds)\u001b[0m\n\u001b[1;32m    310\u001b[0m             \u001b[0;32mwith\u001b[0m \u001b[0mphil\u001b[0m\u001b[0;34m:\u001b[0m\u001b[0;34m\u001b[0m\u001b[0m\n\u001b[1;32m    311\u001b[0m                 \u001b[0mfapl\u001b[0m \u001b[0;34m=\u001b[0m \u001b[0mmake_fapl\u001b[0m\u001b[0;34m(\u001b[0m\u001b[0mdriver\u001b[0m\u001b[0;34m,\u001b[0m \u001b[0mlibver\u001b[0m\u001b[0;34m,\u001b[0m \u001b[0;34m**\u001b[0m\u001b[0mkwds\u001b[0m\u001b[0;34m)\u001b[0m\u001b[0;34m\u001b[0m\u001b[0m\n\u001b[0;32m--> 312\u001b[0;31m                 \u001b[0mfid\u001b[0m \u001b[0;34m=\u001b[0m \u001b[0mmake_fid\u001b[0m\u001b[0;34m(\u001b[0m\u001b[0mname\u001b[0m\u001b[0;34m,\u001b[0m \u001b[0mmode\u001b[0m\u001b[0;34m,\u001b[0m \u001b[0muserblock_size\u001b[0m\u001b[0;34m,\u001b[0m \u001b[0mfapl\u001b[0m\u001b[0;34m,\u001b[0m \u001b[0mswmr\u001b[0m\u001b[0;34m=\u001b[0m\u001b[0mswmr\u001b[0m\u001b[0;34m)\u001b[0m\u001b[0;34m\u001b[0m\u001b[0m\n\u001b[0m\u001b[1;32m    313\u001b[0m \u001b[0;34m\u001b[0m\u001b[0m\n\u001b[1;32m    314\u001b[0m                 \u001b[0;32mif\u001b[0m \u001b[0mswmr_support\u001b[0m\u001b[0;34m:\u001b[0m\u001b[0;34m\u001b[0m\u001b[0m\n",
      "\u001b[0;32m/usr/local/lib/python3.6/site-packages/h5py/_hl/files.py\u001b[0m in \u001b[0;36mmake_fid\u001b[0;34m(name, mode, userblock_size, fapl, fcpl, swmr)\u001b[0m\n\u001b[1;32m    140\u001b[0m         \u001b[0;32mif\u001b[0m \u001b[0mswmr\u001b[0m \u001b[0;32mand\u001b[0m \u001b[0mswmr_support\u001b[0m\u001b[0;34m:\u001b[0m\u001b[0;34m\u001b[0m\u001b[0m\n\u001b[1;32m    141\u001b[0m             \u001b[0mflags\u001b[0m \u001b[0;34m|=\u001b[0m \u001b[0mh5f\u001b[0m\u001b[0;34m.\u001b[0m\u001b[0mACC_SWMR_READ\u001b[0m\u001b[0;34m\u001b[0m\u001b[0m\n\u001b[0;32m--> 142\u001b[0;31m         \u001b[0mfid\u001b[0m \u001b[0;34m=\u001b[0m \u001b[0mh5f\u001b[0m\u001b[0;34m.\u001b[0m\u001b[0mopen\u001b[0m\u001b[0;34m(\u001b[0m\u001b[0mname\u001b[0m\u001b[0;34m,\u001b[0m \u001b[0mflags\u001b[0m\u001b[0;34m,\u001b[0m \u001b[0mfapl\u001b[0m\u001b[0;34m=\u001b[0m\u001b[0mfapl\u001b[0m\u001b[0;34m)\u001b[0m\u001b[0;34m\u001b[0m\u001b[0m\n\u001b[0m\u001b[1;32m    143\u001b[0m     \u001b[0;32melif\u001b[0m \u001b[0mmode\u001b[0m \u001b[0;34m==\u001b[0m \u001b[0;34m'r+'\u001b[0m\u001b[0;34m:\u001b[0m\u001b[0;34m\u001b[0m\u001b[0m\n\u001b[1;32m    144\u001b[0m         \u001b[0mfid\u001b[0m \u001b[0;34m=\u001b[0m \u001b[0mh5f\u001b[0m\u001b[0;34m.\u001b[0m\u001b[0mopen\u001b[0m\u001b[0;34m(\u001b[0m\u001b[0mname\u001b[0m\u001b[0;34m,\u001b[0m \u001b[0mh5f\u001b[0m\u001b[0;34m.\u001b[0m\u001b[0mACC_RDWR\u001b[0m\u001b[0;34m,\u001b[0m \u001b[0mfapl\u001b[0m\u001b[0;34m=\u001b[0m\u001b[0mfapl\u001b[0m\u001b[0;34m)\u001b[0m\u001b[0;34m\u001b[0m\u001b[0m\n",
      "\u001b[0;32mh5py/_objects.pyx\u001b[0m in \u001b[0;36mh5py._objects.with_phil.wrapper\u001b[0;34m()\u001b[0m\n",
      "\u001b[0;32mh5py/_objects.pyx\u001b[0m in \u001b[0;36mh5py._objects.with_phil.wrapper\u001b[0;34m()\u001b[0m\n",
      "\u001b[0;32mh5py/h5f.pyx\u001b[0m in \u001b[0;36mh5py.h5f.open\u001b[0;34m()\u001b[0m\n",
      "\u001b[0;31mOSError\u001b[0m: Unable to open file (unable to open file: name = '/Users/thomasklein/Projects/BremenBigDataChallenge2019/bigdatachallenge/models/model_archive/Bartimaeus.h5', errno = 2, error message = 'No such file or directory', flags = 0, o_flags = 0)"
     ]
    }
   ],
   "source": [
    "model_path = \"/Users/thomasklein/Projects/BremenBigDataChallenge2019/bigdatachallenge/models/\"\n",
    "archive_path = model_path + \"model_archive/\"\n",
    "\n",
    "name = \"Bartimaeus\"\n",
    "model = tf.keras.models.load_model(archive_path+name+\"/\"+name+\".h5\")\n",
    "model.summary()"
   ]
  },
  {
   "cell_type": "code",
   "execution_count": null,
   "metadata": {},
   "outputs": [],
   "source": []
  }
 ],
 "metadata": {
  "kernelspec": {
   "display_name": "Python 3",
   "language": "python",
   "name": "python3"
  },
  "language_info": {
   "codemirror_mode": {
    "name": "ipython",
    "version": 3
   },
   "file_extension": ".py",
   "mimetype": "text/x-python",
   "name": "python",
   "nbconvert_exporter": "python",
   "pygments_lexer": "ipython3",
   "version": "3.6.5"
  }
 },
 "nbformat": 4,
 "nbformat_minor": 2
}
