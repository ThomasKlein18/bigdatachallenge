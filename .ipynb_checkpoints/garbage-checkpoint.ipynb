{
 "cells": [
  {
   "cell_type": "code",
   "execution_count": null,
   "metadata": {},
   "outputs": [],
   "source": [
    "def plot_info(label,n):\n",
    "    df = pd.read_csv(data_path+\"train.csv\")\n",
    "    count = 0\n",
    "    for index, drow in df.iterrows():\n",
    "        if drow['Label'] == label:\n",
    "            count += 1\n",
    "            data = pd.read_csv(data_path+drow['Datafile']).values\n",
    "            nrows = 1\n",
    "            fig, ax = plt.subplots(nrows=nrows, ncols=1, figsize=(20,nrows*3))\n",
    "            #fig.tight_layout()\n",
    "            if nrows == 1:\n",
    "                ax = [ax]\n",
    "            for idx, row in enumerate(ax):\n",
    "                titletext = drow['Subject']+\", \"+drow['Datafile'][20:31]+\", \"+label+\",  \"+sensors[idx]\n",
    "                if type(row) is np.ndarray:\n",
    "                    row[0].set_title(titletext)\n",
    "                else:\n",
    "                    row.set_title(titletext)\n",
    "                plt.subplots_adjust(left=None, bottom=None, right=None, top=None, wspace=None, hspace=.5)\n",
    "                xs = np.arange(0,data.shape[0])\n",
    "                mean = np.mean(data[:,idx])\n",
    "                std = np.std(data[:,idx])\n",
    "                upper = mean + std\n",
    "                lower = mean - std\n",
    "                row.plot(xs,data[:,idx])\n",
    "                #row.plot(xs,np.ones(xs.shape)*lower, c=\"red\")\n",
    "                #row.plot(xs,np.ones(xs.shape)*upper, c=\"red\")\n",
    "                #row.plot(xs,clusterfilter(data[:,idx],100,50)*mean, c=\"g\")\n",
    "                #m_filtered = median_filtering(data, 10)\n",
    "                m_filtered = smooth(data[:,idx], 50, 5)\n",
    "                vari = variance_filter(data[:,idx],50)\n",
    "                peaks = signal.find_peaks(vari, height=1000, width=20)\n",
    "                #print(peaks)\n",
    "                row.scatter(peaks[0],vari[peaks[0]], c=\"r\")\n",
    "                row.plot(np.arange(0,vari.shape[0]),vari, c=\"g\")\n",
    "                #row.plot(np.arange(0,m_filtered.shape[0]),m_filtered, c=\"r\")\n",
    "                #row.title(label+\"Sensor \"+str(idx))\n",
    "            plt.show()\n",
    "            if count == n:\n",
    "                break\n",
    "\n",
    "                \n",
    "plot_info(\"stand\",1000)"
   ]
  }
 ],
 "metadata": {
  "kernelspec": {
   "display_name": "Python 3",
   "language": "python",
   "name": "python3"
  },
  "language_info": {
   "codemirror_mode": {
    "name": "ipython",
    "version": 3
   },
   "file_extension": ".py",
   "mimetype": "text/x-python",
   "name": "python",
   "nbconvert_exporter": "python",
   "pygments_lexer": "ipython3",
   "version": "3.6.5"
  }
 },
 "nbformat": 4,
 "nbformat_minor": 2
}
