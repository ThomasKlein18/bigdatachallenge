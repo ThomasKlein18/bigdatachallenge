{
 "cells": [
  {
   "cell_type": "code",
   "execution_count": 2,
   "metadata": {},
   "outputs": [
    {
     "name": "stdout",
     "output_type": "stream",
     "text": [
      "tf.Tensor(\n",
      "[[4.        2.7       2.3       1.75     ]\n",
      " [4.5       0.6       1.0333333 1.975    ]\n",
      " [5.7       1.55      2.6000001 2.175    ]], shape=(3, 4), dtype=float32)\n"
     ]
    }
   ],
   "source": [
    "import tensorflow as tf\n",
    "\n",
    "tf.enable_eager_execution()\n",
    "\n",
    "vals = tf.constant([[4.0, 5.4, 6.9, 7.0,],\n",
    "                    [4.5, 1.2, 3.1, 7.9],\n",
    "                    [5.7, 3.1, 7.8, 8.7]], dtype=tf.float32) # shape (3,4)\n",
    "means = tf.constant([1,2,3,4], dtype=tf.float32)\n",
    "\n",
    "\n",
    "print(vals/means)"
   ]
  },
  {
   "cell_type": "code",
   "execution_count": null,
   "metadata": {},
   "outputs": [],
   "source": []
  }
 ],
 "metadata": {
  "kernelspec": {
   "display_name": "Python 3",
   "language": "python",
   "name": "python3"
  },
  "language_info": {
   "codemirror_mode": {
    "name": "ipython",
    "version": 3
   },
   "file_extension": ".py",
   "mimetype": "text/x-python",
   "name": "python",
   "nbconvert_exporter": "python",
   "pygments_lexer": "ipython3",
   "version": "3.6.5"
  }
 },
 "nbformat": 4,
 "nbformat_minor": 2
}
